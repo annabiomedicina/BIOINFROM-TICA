{
 "cells": [
  {
   "cell_type": "markdown",
   "id": "eaebb484",
   "metadata": {},
   "source": [
    "# TRABAJO DE PYTHON\n",
    "\n",
    "### Este trabajo cuenta el 30% de la nota. \n",
    "\n",
    "### Resuelve los siguientes ejercicios en Python\n",
    "\n",
    "#### Utiliza tantas celdas de código como necesites"
   ]
  },
  {
   "cell_type": "markdown",
   "id": "98d4d480",
   "metadata": {},
   "source": [
    "#### 1.- Carga el archivo *\"archivo.txt\"* en este Jupyter Notebook y guarda su contenido en una lista. (1 pto)"
   ]
  },
  {
   "cell_type": "code",
   "execution_count": 446,
   "id": "f6b21b23",
   "metadata": {},
   "outputs": [
    {
     "name": "stdout",
     "output_type": "stream",
     "text": [
      "['>CP043953.1 Acinetobacter baumannii strain K09-14 chromosome, complete genome\\n', 'ATGCTTTGGACAGACTGCTTAACTCGCTTGCGACAAGAGCTCTCTGATAACGTCTTTGCGATGTGGATTCGCCCTTTAGTAGCTGAAGAAGTAGAGGGGATACTACGTCTCTATGCTCCTAATCCTTATTGGACGCGTTATATTCAAGAGAATCATTTAGAGTTAATTTCTATATTGGCTGAACAATTGTCAGAAGGGCGGGTGCGTCAGGTTGAAATCTTGGTAGATTCTCGTCCTGGTAGTATTTTGTCTTCTAGTGAACAGCCTGCAACAACTACAGCAGCTTTACAAACTGCCCCTATACCTCAACCTGCTAAGGTTAAAAGAGAACCGGAACCTGTTGCTAATACTGCAGTTAGTTCTAAGAGTTCAAAAAAGAAACTATTAAATCCACAATTTACTTTTTCACTATTTGTTGAAGGCCGTTCTAACCAAATGGCAGCAGAAACCTGTAGAAAAGTATTAACACAGTTAGGTGCTTCTCAACATAACCCTTTGTTTTTATATGGTCCGACAGGTCTAGGTAAGACTCACTTAATGCAAGCAGTTGGTAATGCCCTACTGCAAGCGAAGCCGAATGCAAGAGTCATGTATATGACTTCAGAAAGTTTTGTACAAGATTTTGTGAGCTCATTACAAAAAGGAAAGGTAGAAGAGTTTAAGAAAAATTGCCGTTCTTTAGACTTGTTATTAGTAGATGATATTCATCTTTTGGCAGGAAAAGAAGCAAGTCTCGTTGAATTCTTCTATACATTTAATGCCTTACTTGATGAATCTAAACAAATTATTTTAACGTCTGATCGATATCCTAAAGAATTAACAGAACTTGATCCTCGATTGGTTTCTCGTTTTTCCTGGGGGCTATCAGTAGGTGTTGAACCACCTGATATTGAAACTCGAATCGAAATTCTGCTTAAAAAAGCTGAAAATAGTGGCGTTGATTTACCTAGAAACTGTGCGTTGTTTATTGCCCAACAAGTCGTAGCGAACGTACGTGAACTTGAGGGCGCACTGAATAAAGTTGTCGCAATTTCACGTTTTAAAGGTGCTCCAATTGACCTGGATGTCGTACGGGAATCTTTAAAAGATGTTTTAGCGATCCGTGCTCGTACAATTAGTGTAGAAAATATCCAGCGTGTAGTGAGTGAATATTTCCGAATTCCATTAAAAGAGCTGGTAGGTCCAAAGCGTACCCGAATTTATGCTCGACCACGTCAGTTGGCGATGGGGCTTGCCCGTGAATTAACGGGGGATAGTTTTCCTGAAATTGGAATGGCTTTTGGTGGGCGTGATCACAGTACAGTGATGCATGCTTGTGAAAAAGTCGTC']\n"
     ]
    }
   ],
   "source": [
    "mi_archivo=open ('archivo.txt')\n",
    "sec=mi_archivo.readlines ()\n",
    "print (sec)"
   ]
  },
  {
   "cell_type": "markdown",
   "id": "400fa3f1",
   "metadata": {},
   "source": [
    "#### 2.- Muestre el encabezado y la secuencia y guarde cada uno en variables separadas. Elimine el elemento \"\\n\" del encabezado con replace(). ¿Cual es la longitud de la secuencia?. (1 pto)"
   ]
  },
  {
   "cell_type": "code",
   "execution_count": 450,
   "id": "154b42b2",
   "metadata": {},
   "outputs": [
    {
     "name": "stdout",
     "output_type": "stream",
     "text": [
      ">CP043953.1 Acinetobacter baumannii strain K09-14 chromosome, complete genome\n",
      "ATGCTTTGGACAGACTGCTTAACTCGCTTGCGACAAGAGCTCTCTGATAACGTCTTTGCGATGTGGATTCGCCCTTTAGTAGCTGAAGAAGTAGAGGGGATACTACGTCTCTATGCTCCTAATCCTTATTGGACGCGTTATATTCAAGAGAATCATTTAGAGTTAATTTCTATATTGGCTGAACAATTGTCAGAAGGGCGGGTGCGTCAGGTTGAAATCTTGGTAGATTCTCGTCCTGGTAGTATTTTGTCTTCTAGTGAACAGCCTGCAACAACTACAGCAGCTTTACAAACTGCCCCTATACCTCAACCTGCTAAGGTTAAAAGAGAACCGGAACCTGTTGCTAATACTGCAGTTAGTTCTAAGAGTTCAAAAAAGAAACTATTAAATCCACAATTTACTTTTTCACTATTTGTTGAAGGCCGTTCTAACCAAATGGCAGCAGAAACCTGTAGAAAAGTATTAACACAGTTAGGTGCTTCTCAACATAACCCTTTGTTTTTATATGGTCCGACAGGTCTAGGTAAGACTCACTTAATGCAAGCAGTTGGTAATGCCCTACTGCAAGCGAAGCCGAATGCAAGAGTCATGTATATGACTTCAGAAAGTTTTGTACAAGATTTTGTGAGCTCATTACAAAAAGGAAAGGTAGAAGAGTTTAAGAAAAATTGCCGTTCTTTAGACTTGTTATTAGTAGATGATATTCATCTTTTGGCAGGAAAAGAAGCAAGTCTCGTTGAATTCTTCTATACATTTAATGCCTTACTTGATGAATCTAAACAAATTATTTTAACGTCTGATCGATATCCTAAAGAATTAACAGAACTTGATCCTCGATTGGTTTCTCGTTTTTCCTGGGGGCTATCAGTAGGTGTTGAACCACCTGATATTGAAACTCGAATCGAAATTCTGCTTAAAAAAGCTGAAAATAGTGGCGTTGATTTACCTAGAAACTGTGCGTTGTTTATTGCCCAACAAGTCGTAGCGAACGTACGTGAACTTGAGGGCGCACTGAATAAAGTTGTCGCAATTTCACGTTTTAAAGGTGCTCCAATTGACCTGGATGTCGTACGGGAATCTTTAAAAGATGTTTTAGCGATCCGTGCTCGTACAATTAGTGTAGAAAATATCCAGCGTGTAGTGAGTGAATATTTCCGAATTCCATTAAAAGAGCTGGTAGGTCCAAAGCGTACCCGAATTTATGCTCGACCACGTCAGTTGGCGATGGGGCTTGCCCGTGAATTAACGGGGGATAGTTTTCCTGAAATTGGAATGGCTTTTGGTGGGCGTGATCACAGTACAGTGATGCATGCTTGTGAAAAAGTCGTC\n",
      "La longuitud de la secuencia es: 1329\n"
     ]
    }
   ],
   "source": [
    "encabezado= sec [0].replace ('\\n','')\n",
    "print (encabezado)\n",
    "secuencia= sec[1]\n",
    "print (secuencia)\n",
    "print ('La longuitud de la secuencia es:',len (secuencia))"
   ]
  },
  {
   "cell_type": "markdown",
   "id": "36b8c00d",
   "metadata": {},
   "source": [
    "#### 3.- Para el encabezado, extrae empleando expresiones regulares el identificador. (1pto)"
   ]
  },
  {
   "cell_type": "code",
   "execution_count": 245,
   "id": "3fd012f9-4f01-43d5-8e17-5fd42819525c",
   "metadata": {},
   "outputs": [
    {
     "name": "stdout",
     "output_type": "stream",
     "text": [
      "Identificador extraído: >CP043953.1\n"
     ]
    }
   ],
   "source": [
    "import re\n",
    "#>\\S+: quiere decir que busca desde > hasta que haya un espacio, ya que \\S+ busca mas de un carácter sin espacio\n",
    "identificador = re.search(r'>\\S+', encabezado)\n",
    "if identificador:\n",
    "    print(\"Identificador extraído:\", identificador.group(0))\n",
    "else:\n",
    "    print(\"No se encontró un identificador.\")\n"
   ]
  },
  {
   "cell_type": "markdown",
   "id": "f38fdda0",
   "metadata": {},
   "source": [
    "#### 4.- Para la secuencia, haz un algoritmo que vaya sumando el numero de adeninas (A) y timinas (T) segun vaya iterando por la secuencia. El numero total de adeninas y timinas deberia guardarse en una misma variable. (1 pto)"
   ]
  },
  {
   "cell_type": "code",
   "execution_count": 247,
   "id": "2914b1f2",
   "metadata": {},
   "outputs": [
    {
     "name": "stdout",
     "output_type": "stream",
     "text": [
      "793\n"
     ]
    }
   ],
   "source": [
    "total_adeninas_timinas= 0\n",
    "for base in secuencia:\n",
    "    if base == 'A' or base == 'T':\n",
    "        total_adeninas_timinas +=1\n",
    "print (total_adeninas_timinas)"
   ]
  },
  {
   "cell_type": "code",
   "execution_count": 249,
   "id": "babcc296-23c8-4b6b-8236-93e20a8b058a",
   "metadata": {},
   "outputs": [
    {
     "name": "stdout",
     "output_type": "stream",
     "text": [
      "793\n"
     ]
    }
   ],
   "source": [
    "total_adeninas_timinas= secuencia.count ('A') + secuencia.count ('T')\n",
    "print (total_adeninas_timinas)"
   ]
  },
  {
   "cell_type": "markdown",
   "id": "98096e73",
   "metadata": {},
   "source": [
    "#### 5.- Escribe una funcion que calcule el porcentaje de un nucleotido de una secuencia y que examine la entrada para comprobar que se ha introducido un nucleotido de los cuatro tipos que hay (A, T, G o C). Devuelve el resultado con un decimal. Por ultimo comprueba que tu codigo funciona con las siguientes *assertions*. (1 pto)"
   ]
  },
  {
   "cell_type": "code",
   "execution_count": 436,
   "id": "fc0fabe6-8caf-49b4-8872-765274ce103c",
   "metadata": {},
   "outputs": [],
   "source": [
    "def calculo_porcentaje(nucleotido,secuencia):\n",
    "    conteo= secuencia.count (nucleotido)\n",
    "    longuitud= len (secuencia)\n",
    "    operacion= (conteo/longuitud)*100\n",
    "    return round (operacion, 1)"
   ]
  },
  {
   "cell_type": "code",
   "execution_count": null,
   "id": "1de85fcd-5506-4c60-befc-8cfae8662cc5",
   "metadata": {},
   "outputs": [],
   "source": [
    "calculo_porcentaje ('G',secuencia)"
   ]
  },
  {
   "cell_type": "code",
   "execution_count": 426,
   "id": "6431d69f-a831-43ef-99ac-e89392da7d8c",
   "metadata": {},
   "outputs": [
    {
     "data": {
      "text/plain": [
       "18.3"
      ]
     },
     "execution_count": 426,
     "metadata": {},
     "output_type": "execute_result"
    }
   ],
   "source": [
    "calculo_porcentaje ('C',secuencia)"
   ]
  },
  {
   "cell_type": "code",
   "execution_count": 428,
   "id": "a82c3b0c-ce29-4a9f-9eeb-fdd99e44caa4",
   "metadata": {},
   "outputs": [
    {
     "data": {
      "text/plain": [
       "18.3"
      ]
     },
     "execution_count": 428,
     "metadata": {},
     "output_type": "execute_result"
    }
   ],
   "source": [
    "calculo_porcentaje ('A',secuencia)"
   ]
  },
  {
   "cell_type": "code",
   "execution_count": 412,
   "id": "08990318-4f7a-4972-87f6-dbf36b0b3685",
   "metadata": {},
   "outputs": [
    {
     "data": {
      "text/plain": [
       "30.5"
      ]
     },
     "execution_count": 412,
     "metadata": {},
     "output_type": "execute_result"
    }
   ],
   "source": [
    "calculo_porcentaje ('T',secuencia)"
   ]
  },
  {
   "cell_type": "code",
   "execution_count": 438,
   "id": "e7da35db-f431-4b0d-82d1-07e444329320",
   "metadata": {},
   "outputs": [],
   "source": [
    "assert calculo_porcentaje(\"A\",secuencia) == 29.2\n",
    "assert calculo_porcentaje(\"T\",secuencia) == 30.5\n",
    "assert calculo_porcentaje(\"G\",secuencia) == 22.0\n",
    "assert calculo_porcentaje(\"C\",secuencia) == 18.3\n",
    "#Como al ejecutar no nos ningún error, el código funciona con las assertions."
   ]
  },
  {
   "cell_type": "markdown",
   "id": "a28888dd",
   "metadata": {},
   "source": [
    "#### 6.- Devuelve la secuencia de ARN que surgiría a partir de la siguiente secuencia. Recuerda que la secuencia de ARN resultante tiene que ser complementaria a la de ADN y además, hay que cambiar un nucleótido. (1 pto)"
   ]
  },
  {
   "cell_type": "code",
   "execution_count": 255,
   "id": "b27feabb",
   "metadata": {},
   "outputs": [
    {
     "name": "stdout",
     "output_type": "stream",
     "text": [
      "La secuencia de ARN es: AUGCUUUGGACAGACUGCUUAACUCGCUUGCGACAAGAGCUCUCUGAUAACGUCUUUGCGAUGUGGAUUCGCCCUUUAGUAGCUGAAGAAGUAGAGGGGAUACUACGUCUCUAUGCUCCUAAUCCUUAUUGGACGCGUUAUAUUCAAGAGAAUCAUUUAGAGUUAAUUUCUAUAUUGGCUGAACAAUUGUCAGAAGGGCGGGUGCGUCAGGUUGAAAUCUUGGUAGAUUCUCGUCCUGGUAGUAUUUUGUCUUCUAGUGAACAGCCUGCAACAACUACAGCAGCUUUACAAACUGCCCCUAUACCUCAACCUGCUAAGGUUAAAAGAGAACCGGAACCUGUUGCUAAUACUGCAGUUAGUUCUAAGAGUUCAAAAAAGAAACUAUUAAAUCCACAAUUUACUUUUUCACUAUUUGUUGAAGGCCGUUCUAACCAAAUGGCAGCAGAAACCUGUAGAAAAGUAUUAACACAGUUAGGUGCUUCUCAACAUAACCCUUUGUUUUUAUAUGGUCCGACAGGUCUAGGUAAGACUCACUUAAUGCAAGCAGUUGGUAAUGCCCUACUGCAAGCGAAGCCGAAUGCAAGAGUCAUGUAUAUGACUUCAGAAAGUUUUGUACAAGAUUUUGUGAGCUCAUUACAAAAAGGAAAGGUAGAAGAGUUUAAGAAAAAUUGCCGUUCUUUAGACUUGUUAUUAGUAGAUGAUAUUCAUCUUUUGGCAGGAAAAGAAGCAAGUCUCGUUGAAUUCUUCUAUACAUUUAAUGCCUUACUUGAUGAAUCUAAACAAAUUAUUUUAACGUCUGAUCGAUAUCCUAAAGAAUUAACAGAACUUGAUCCUCGAUUGGUUUCUCGUUUUUCCUGGGGGCUAUCAGUAGGUGUUGAACCACCUGAUAUUGAAACUCGAAUCGAAAUUCUGCUUAAAAAAGCUGAAAAUAGUGGCGUUGAUUUACCUAGAAACUGUGCGUUGUUUAUUGCCCAACAAGUCGUAGCGAACGUACGUGAACUUGAGGGCGCACUGAAUAAAGUUGUCGCAAUUUCACGUUUUAAAGGUGCUCCAAUUGACCUGGAUGUCGUACGGGAAUCUUUAAAAGAUGUUUUAGCGAUCCGUGCUCGUACAAUUAGUGUAGAAAAUAUCCAGCGUGUAGUGAGUGAAUAUUUCCGAAUUCCAUUAAAAGAGCUGGUAGGUCCAAAGCGUACCCGAAUUUAUGCUCGACCACGUCAGUUGGCGAUGGGGCUUGCCCGUGAAUUAACGGGGGAUAGUUUUCCUGAAAUUGGAAUGGCUUUUGGUGGGCGUGAUCACAGUACAGUGAUGCAUGCUUGUGAAAAAGUCGUC\n"
     ]
    }
   ],
   "source": [
    "#En la secuencia de ARN las timinas se remplazan por uracilos\n",
    "secuencia_ARN= secuencia.replace ('T', 'U')\\\n",
    "                        \n",
    "print ('La secuencia de ARN es:',secuencia_ARN)"
   ]
  },
  {
   "cell_type": "markdown",
   "id": "9f94d5dd",
   "metadata": {},
   "source": [
    "#### 7.- Realiza una función que realice una digestión con las siguientes enzimas de restricción en nuestra secuencia. La función tiene que devolver la siguiente información: (2 pto)\n",
    "1. Enzimas que tienen sitios de corte en la secuencia y posición (o posiciones de corte)\n",
    "2. Enzimas que no tienen sitios de corte (si las hay)\n",
    "3. Resultado de la digestión: los fragmentos resultantes de nuestra secuencia\n",
    "4. Indicar número y tamaño de cada fragmento"
   ]
  },
  {
   "cell_type": "code",
   "execution_count": 408,
   "id": "64c76372-a8ad-4993-9ebb-4ff87ad2dfd5",
   "metadata": {},
   "outputs": [
    {
     "name": "stdout",
     "output_type": "stream",
     "text": [
      "sitio de restricción no encontrado para HindIII\n",
      "sitio de restricción no encontrado para BamHI\n",
      "sitio de restricción encontrado para AluI\n",
      "sitio de restricción encontrado para Sau3AI\n",
      "sitio de restricción encontrado para EcoRI\n",
      "La enzima AluI corta en la posición 39\n",
      "La enzima AluI corta en la posición 82\n",
      "La enzima AluI corta en la posición 283\n",
      "La enzima AluI corta en la posición 629\n",
      "La enzima AluI corta en la posición 922\n",
      "La enzima AluI corta en la posición 1173\n",
      "La enzima Sau3AI corta en la posición 798\n",
      "La enzima Sau3AI corta en la posición 828\n",
      "La enzima Sau3AI corta en la posición 1097\n",
      "La enzima Sau3AI corta en la posición 1290\n",
      "La enzima EcoRI corta en la posición 739\n",
      "La enzima EcoRI corta en la posición 1157\n",
      "Fragmento 1: ATGCTTTGGACAGACTGCTTAACTCGCTTGCGACAAGAG, Tamaño: 39 bases\n",
      "Fragmento 2: CTCTCTGATAACGTCTTTGCGATGTGGATTCGCCCTTTAGTAG, Tamaño: 43 bases\n",
      "Fragmento 3: CTGAAGAAGTAGAGGGGATACTACGTCTCTATGCTCCTAATCCTTATTGGACGCGTTATATTCAAGAGAATCATTTAGAGTTAATTTCTATATTGGCTGAACAATTGTCAGAAGGGCGGGTGCGTCAGGTTGAAATCTTGGTAGATTCTCGTCCTGGTAGTATTTTGTCTTCTAGTGAACAGCCTGCAACAACTACAGCAG, Tamaño: 201 bases\n",
      "Fragmento 4: CTTTACAAACTGCCCCTATACCTCAACCTGCTAAGGTTAAAAGAGAACCGGAACCTGTTGCTAATACTGCAGTTAGTTCTAAGAGTTCAAAAAAGAAACTATTAAATCCACAATTTACTTTTTCACTATTTGTTGAAGGCCGTTCTAACCAAATGGCAGCAGAAACCTGTAGAAAAGTATTAACACAGTTAGGTGCTTCTCAACATAACCCTTTGTTTTTATATGGTCCGACAGGTCTAGGTAAGACTCACTTAATGCAAGCAGTTGGTAATGCCCTACTGCAAGCGAAGCCGAATGCAAGAGTCATGTATATGACTTCAGAAAGTTTTGTACAAGATTTTGTGAG, Tamaño: 346 bases\n",
      "Fragmento 5: CTCATTACAAAAAGGAAAGGTAGAAGAGTTTAAGAAAAATTGCCGTTCTTTAGACTTGTTATTAGTAGATGATATTCATCTTTTGGCAGGAAAAGAAGCAAGTCTCGTTG, Tamaño: 110 bases\n",
      "Fragmento 6: AATTCTTCTATACATTTAATGCCTTACTTGATGAATCTAAACAAATTATTTTAACGTCT, Tamaño: 59 bases\n",
      "Fragmento 7: GATCGATATCCTAAAGAATTAACAGAACTT, Tamaño: 30 bases\n",
      "Fragmento 8: GATCCTCGATTGGTTTCTCGTTTTTCCTGGGGGCTATCAGTAGGTGTTGAACCACCTGATATTGAAACTCGAATCGAAATTCTGCTTAAAAAAG, Tamaño: 94 bases\n",
      "Fragmento 9: CTGAAAATAGTGGCGTTGATTTACCTAGAAACTGTGCGTTGTTTATTGCCCAACAAGTCGTAGCGAACGTACGTGAACTTGAGGGCGCACTGAATAAAGTTGTCGCAATTTCACGTTTTAAAGGTGCTCCAATTGACCTGGATGTCGTACGGGAATCTTTAAAAGATGTTTTAGC, Tamaño: 175 bases\n",
      "Fragmento 10: GATCCGTGCTCGTACAATTAGTGTAGAAAATATCCAGCGTGTAGTGAGTGAATATTTCCG, Tamaño: 60 bases\n",
      "Fragmento 11: AATTCCATTAAAAGAG, Tamaño: 16 bases\n",
      "Fragmento 12: CTGGTAGGTCCAAAGCGTACCCGAATTTATGCTCGACCACGTCAGTTGGCGATGGGGCTTGCCCGTGAATTAACGGGGGATAGTTTTCCTGAAATTGGAATGGCTTTTGGTGGGCGT, Tamaño: 117 bases\n",
      "Fragmento 13: GATCACAGTACAGTGATGCATGCTTGTGAAAAAGTCGTC, Tamaño: 39 bases\n"
     ]
    }
   ],
   "source": [
    "#Primero comprobamos que enzimas tienen sitio de corte en la secuencia\n",
    "enzR = {\n",
    "    'HindIII' : 'A*AGCTT',\n",
    "    'BamHI' : 'G*GATCC',\n",
    "    'AluI' : 'AG*CT',\n",
    "    'Sau3AI' : '*GATC',\n",
    "    'EcoRI' : 'G*AATTC'\n",
    "}\n",
    "import re\n",
    "if re.search (r'A(AGCTT)',secuencia):\n",
    "    print ('sitio de restricción encontrado para HindIII')\n",
    "else:\n",
    "    print ('sitio de restricción no encontrado para HindIII')\n",
    "if re.search (r'G(GATCC)', secuencia):\n",
    "    print ('sitio de restricción encontrado para BamHI')\n",
    "else:\n",
    "    print ('sitio de restricción no encontrado para BamHI')\n",
    "if re.search (r'AG(CT)', secuencia):\n",
    "    print ('sitio de restricción encontrado para AluI')\n",
    "else:\n",
    "    print ('sitio de restricción no encontrado para AluI')\n",
    "if re.search (r'(GATC)', secuencia):\n",
    "    print ('sitio de restricción encontrado para Sau3AI')\n",
    "else:\n",
    "    print ('sitio de restricción no encontrado para Sau3AI')\n",
    "if re.search (r'G(AATTC)', secuencia):\n",
    "    print ('sitio de restricción encontrado para EcoRI')\n",
    "else:\n",
    "    print ('sitio de restricción no encontrado para EcoRI')\n",
    "\n",
    "# Ahora buscamos en que posición corta cada enzima de restricción\n",
    "posiciones_corte=[]\n",
    "for enzima, tabla in enzR.items():\n",
    "    quitamos_asterisco = tabla.replace('*', '')\n",
    "    \n",
    "    for corte in re.finditer(quitamos_asterisco, secuencia):\n",
    "        inicio = corte.start()\n",
    "        # Calculamos la posición de corte buscando el asterisco de la tabla\n",
    "        posicion_corte_relativa = tabla.index('*')\n",
    "        posicion_corte = inicio + posicion_corte_relativa\n",
    "        posiciones_corte.append(posicion_corte)\n",
    "        print(f'La enzima {enzima} corta en la posición {posicion_corte}')\n",
    "\n",
    "posiciones_corte = [0] + sorted(posiciones_corte) + [len(secuencia)]\n",
    "# Lista para guardar los fragmentos\n",
    "fragmentos = []\n",
    "\n",
    "for i in range(len(posiciones_corte) - 1):\n",
    "    inicio = posiciones_corte[i]\n",
    "    fin = posiciones_corte[i + 1]\n",
    "    fragmento = secuencia[inicio:fin]  # Para tener el fragmento entre cada corte\n",
    "    tamaño = fin - inicio  # Cálculo del tamaño de cada fragmento\n",
    "    fragmentos.append((fragmento, tamaño))  # Con la función append añadimos a la lista fragmentos, todos los fragmentos con su tamaño\n",
    "    print(f\"Fragmento {i + 1}: {fragmento}, Tamaño: {tamaño} bases\")\n",
    "  \n"
   ]
  },
  {
   "cell_type": "markdown",
   "id": "cae3c937",
   "metadata": {},
   "source": [
    "#### 8.- Realiza una función que mediante la introducción de una secuencia de ADN devuelva lo siguiente: (2pto)\n",
    "1. La secuencia traducida de proteína\n",
    "2. La longitud de la secuencia de ADN original y la longitud de la secuencia de proteínas final\n",
    "3. El porcentaje de aminoácidos aromáticos (en conjunto y por separado)\n"
   ]
  },
  {
   "cell_type": "code",
   "execution_count": 432,
   "id": "36cde603-35aa-4f1b-b4dc-68f1683aac87",
   "metadata": {},
   "outputs": [
    {
     "name": "stdout",
     "output_type": "stream",
     "text": [
      "{'La proteína traducida es': 'MLWTDCLTRLRQELSDNVFAMWIRPLVAEEVEGILRLYAPNPYWTRYIQENHLELISILAEQLSEGRVRQVEILVDSRPGSILSSSEQPATTTAALQTAPIPQPAKVKREPEPVANTAVSSKSSKKKLLNPQFTFSLFVEGRSNQMAAETCRKVLTQLGASQHNPLFLYGPTGLGKTHLMQAVGNALLQAKPNARVMYMTSESFVQDFVSSLQKGKVEEFKKNCRSLDLLLVDDIHLLAGKEASLVEFFYTFNALLDESKQIILTSDRYPKELTELDPRLVSRFSWGLSVGVEPPDIETRIEILLKKAENSGVDLPRNCALFIAQQVVANVRELEGALNKVVAISRFKGAPIDLDVVRESLKDVLAIRARTISVENIQRVVSEYFRIPLKELVGPKRTRIYARPRQLAMGLARELTGDSFPEIGMAFGGRDHSTVMHACEKVV', 'La longuitud del ADN es': 1329, 'La longuitud de la proteina es': 443, 'El total de aromáticos es': 30, 'El porcentaje de aromáticos en la proteina es': 6.772009029345373, 'El porcentaje de tirosina en la proteina es': 2.0316027088036117, 'El porcentaje de fenilalanina en la proteina es': 3.837471783295711, 'El porcentaje de triptófano en la proteina es': 0.9029345372460496}\n"
     ]
    }
   ],
   "source": [
    "secuencia_ADN= secuencia\n",
    "tabla_codones={  'ATG':'M','ATT':'I','ATC':'I','ATA':'I',\n",
    "               'ACT':'T','ACG':'T','ACC':'T','ACA':'T',\n",
    "               'AAG':'K','AAA':'K','AAT':'N','AAC':'N',\n",
    "               'AGG':'R','AGA':'R','AGT':'S','AGC':'S',\n",
    "               'CTT':'L','CTG':'L','CTC':'L','CTA':'L',\n",
    "               'CCT':'P','CCG':'P','CCC':'P','CCA':'P',\n",
    "               'CAG':'Q','CAA':'Q','CAT':'H','CAC':'H',\n",
    "               'CGT':'R','CGG':'R','CGC':'R','CGA':'R',\n",
    "               'GTT':'V','GTG':'V','GTC':'V','GTA':'V',\n",
    "               'GCT':'A','GCG':'A','GCC':'A','GCA':'A',\n",
    "               'GAG':'E','GAA':'E','GAT':'D','GAC':'D',\n",
    "               'GGT':'G','GGG':'G','GGC':'G','GGA':'G',\n",
    "               'TCT':'S','TCG':'S','TCC':'S','TCA':'S',\n",
    "               'TTG':'L','TTA':'L','TTT':'F','TTC':'F',\n",
    "               'TAG':'_','TAA':'_','TAT':'Y','TAC':'Y',\n",
    "               'TGG':'W','TGA':'_','TGT':'C','TGC':'C',\n",
    "}\n",
    "\n",
    "def traducir_proteina(secuencia_ADN):\n",
    "    proteina = ''\n",
    "    i = 0\n",
    "    while i < len(secuencia_ADN)-2:\n",
    "        codon=secuencia_ADN[i:i+3]\n",
    "        if codon in tabla_codones:\n",
    "            proteina += tabla_codones[codon]\n",
    "        else:\n",
    "            proteina += 'no existe'\n",
    "        i += 3\n",
    "    aromaticos= 'F','Y','W' #fenilalanina, tirosina y triptófano\n",
    "    total_aromaticos= sum (1 for aa in proteina if aa in aromaticos)\n",
    "    porcentaje_aromaticos= (total_aromaticos/ len (proteina)*100) if len(proteina) >0 else 0 \n",
    "    total_F=sum (1 for aa in proteina if aa in 'F')\n",
    "    total_Y=sum (1 for aa in proteina if aa in 'Y')\n",
    "    total_W=sum (1 for aa in proteina if aa in 'W')\n",
    "    porcentaje_F=(total_F/len(proteina)*100) if len(proteina) >0 else 0\n",
    "    porcentaje_Y=(total_Y/len(proteina)*100) if len(proteina) >0 else 0\n",
    "    porcentaje_W=(total_W/len(proteina)*100) if len(proteina) >0 else 0\n",
    "    return {  \n",
    "        'La proteína traducida es': proteina,\n",
    "        'La longuitud del ADN es': len(secuencia_ADN),\n",
    "        'La longuitud de la proteina es': len(proteina),\n",
    "        'El total de aromáticos es': total_aromaticos,\n",
    "        'El porcentaje de aromáticos en la proteina es': porcentaje_aromaticos,\n",
    "        'El porcentaje de tirosina en la proteina es': porcentaje_Y,\n",
    "        'El porcentaje de fenilalanina en la proteina es': porcentaje_F,\n",
    "        'El porcentaje de triptófano en la proteina es': porcentaje_W,\n",
    "        \n",
    "    }\n",
    "resultado = traducir_proteina(secuencia_ADN)\n",
    "print(resultado)"
   ]
  }
 ],
 "metadata": {
  "kernelspec": {
   "display_name": "Python 3 (ipykernel)",
   "language": "python",
   "name": "python3"
  },
  "language_info": {
   "codemirror_mode": {
    "name": "ipython",
    "version": 3
   },
   "file_extension": ".py",
   "mimetype": "text/x-python",
   "name": "python",
   "nbconvert_exporter": "python",
   "pygments_lexer": "ipython3",
   "version": "3.12.4"
  }
 },
 "nbformat": 4,
 "nbformat_minor": 5
}
